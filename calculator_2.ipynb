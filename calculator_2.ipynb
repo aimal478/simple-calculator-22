{
  "nbformat": 4,
  "nbformat_minor": 0,
  "metadata": {
    "colab": {
      "provenance": [],
      "authorship_tag": "ABX9TyP4YsQijWdnkaCqIXvWiDH6",
      "include_colab_link": true
    },
    "kernelspec": {
      "name": "python3",
      "display_name": "Python 3"
    },
    "language_info": {
      "name": "python"
    }
  },
  "cells": [
    {
      "cell_type": "markdown",
      "metadata": {
        "id": "view-in-github",
        "colab_type": "text"
      },
      "source": [
        "<a href=\"https://colab.research.google.com/github/aimal478/simple-calculator-22/blob/main/calculator_2.ipynb\" target=\"_parent\"><img src=\"https://colab.research.google.com/assets/colab-badge.svg\" alt=\"Open In Colab\"/></a>"
      ]
    },
    {
      "cell_type": "code",
      "source": [
        "# Simple Calculator in Google Colab (Python)\n",
        "\n",
        "def calculator():\n",
        "    print(\"Simple Calculator\")\n",
        "\n",
        "    num1 = float(input(\"Enter first number: \"))\n",
        "    operator = input(\"Choose operation (+, -, *, /): \")\n",
        "    num2 = float(input(\"Enter second number: \"))\n",
        "\n",
        "    if operator == '+':\n",
        "        result = num1 + num2\n",
        "    elif operator == '-':\n",
        "        result = num1 - num2\n",
        "    elif operator == '*':\n",
        "        result = num1 * num2\n",
        "    elif operator == '/':\n",
        "        if num2 != 0:\n",
        "            result = num1 / num2\n",
        "        else:\n",
        "            result = \"Error: Division by zero\"\n",
        "    else:\n",
        "        result = \"Invalid operator\"\n",
        "\n",
        "    print(\"Result:\", result)\n",
        "\n",
        "# Run the calculator\n",
        "calculator()\n"
      ],
      "metadata": {
        "colab": {
          "base_uri": "https://localhost:8080/"
        },
        "id": "SY57LbGxOaRp",
        "outputId": "98eafb90-a2f8-4900-fb83-05a346fd5a05"
      },
      "execution_count": 3,
      "outputs": [
        {
          "output_type": "stream",
          "name": "stdout",
          "text": [
            "Simple Calculator\n",
            "Enter first number: 1\n",
            "Choose operation (+, -, *, /): -\n",
            "Enter second number: 4\n",
            "Result: -3.0\n"
          ]
        }
      ]
    }
  ]
}